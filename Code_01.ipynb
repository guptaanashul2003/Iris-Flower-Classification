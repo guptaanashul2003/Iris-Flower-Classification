# 🌸 Iris Flower Classification (ML Project)

This project applies **Machine Learning** to the famous **Iris dataset**, one of the most common beginner datasets used to demonstrate classification.  

---

## 📌 Project Overview
- Dataset: **Iris dataset** (150 samples, 3 classes: Setosa, Versicolor, Virginica)  
- Tools: **Python, Pandas, Seaborn, Matplotlib, Scikit-learn**  
- Goal: Build a classification model to predict the flower species based on petal & sepal dimensions.  

---

## 🛠️ Steps Performed
1. **Data Exploration**  
   - Checked dataset info, missing values, and summary statistics.  
   - Visualized relationships using pairplot and correlation heatmap.  

2. **Preprocessing**  
   - Split dataset into training/testing sets (80/20).  
   - Scaled features using StandardScaler.  

3. **Model Building**  
   - Logistic Regression used as classifier.  
   - Trained model on training data.  

4. **Model Evaluation**  
   - Accuracy score  
   - Classification report (Precision, Recall, F1-score)  
   - Confusion Matrix visualization  

---

## 🔑 Key Insights
- Logistic Regression achieved **~96–100% accuracy** (varies by random split).  
- Sepal length/width and petal length/width clearly distinguish between species.  
- Setosa is linearly separable, while Versicolor and Virginica overlap slightly.  

---

## 📂 Project Files
- `Iris_Classification.ipynb` → Jupyter Notebook with full analysis & model  
- `README.md` → Project documentation  

---

## 🚀 How to Run
1. Clone this repo:  
   ```bash
   git clone https://github.com/<your-username>/Iris-Classification-Project.git
